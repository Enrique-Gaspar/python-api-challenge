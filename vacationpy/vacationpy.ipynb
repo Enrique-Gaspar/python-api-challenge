{
 "cells": [
  {
   "cell_type": "code",
   "execution_count": 1,
   "metadata": {},
   "outputs": [],
   "source": [
    "# Now let's use your skills in working with weather data to plan future vacations. \n",
    "# Use jupyter-gmaps and the Google Places API for this part of the assignment.\n",
    "# Note: if you having trouble displaying the maps try running jupyter nb extension \n",
    "# enable --py gmaps in your environment and retry.\n",
    "# Create a heat map that displays the humidity for every city from the part I of \n",
    "# the homework.\n",
    "# Dependencies and Setup\n",
    "import matplotlib.pyplot as plt\n",
    "import pandas as pd\n",
    "import numpy as np\n",
    "import requests\n",
    "import gmaps\n",
    "import os\n",
    "\n",
    "# Import API key\n",
    "from config import gkey\n",
    "\n",
    "# Access maps with unique API key\n",
    "gmaps.configure(api_key=gkey)"
   ]
  },
  {
   "cell_type": "code",
   "execution_count": 2,
   "metadata": {},
   "outputs": [
    {
     "data": {
      "text/html": [
       "<div>\n",
       "<style scoped>\n",
       "    .dataframe tbody tr th:only-of-type {\n",
       "        vertical-align: middle;\n",
       "    }\n",
       "\n",
       "    .dataframe tbody tr th {\n",
       "        vertical-align: top;\n",
       "    }\n",
       "\n",
       "    .dataframe thead th {\n",
       "        text-align: right;\n",
       "    }\n",
       "</style>\n",
       "<table border=\"1\" class=\"dataframe\">\n",
       "  <thead>\n",
       "    <tr style=\"text-align: right;\">\n",
       "      <th></th>\n",
       "      <th>City</th>\n",
       "      <th>Latitude</th>\n",
       "      <th>Longitude</th>\n",
       "      <th>Temperature</th>\n",
       "      <th>Humidity</th>\n",
       "      <th>Wind Speed</th>\n",
       "      <th>Cloudiness</th>\n",
       "    </tr>\n",
       "  </thead>\n",
       "  <tbody>\n",
       "    <tr>\n",
       "      <th>0</th>\n",
       "      <td>sokolo</td>\n",
       "      <td>14.73</td>\n",
       "      <td>-6.12</td>\n",
       "      <td>23.55</td>\n",
       "      <td>9.0</td>\n",
       "      <td>4.64</td>\n",
       "      <td>100</td>\n",
       "    </tr>\n",
       "    <tr>\n",
       "      <th>1</th>\n",
       "      <td>busselton</td>\n",
       "      <td>-33.65</td>\n",
       "      <td>115.33</td>\n",
       "      <td>22.22</td>\n",
       "      <td>62.0</td>\n",
       "      <td>0.89</td>\n",
       "      <td>0</td>\n",
       "    </tr>\n",
       "    <tr>\n",
       "      <th>2</th>\n",
       "      <td>saint-philippe</td>\n",
       "      <td>-21.36</td>\n",
       "      <td>55.77</td>\n",
       "      <td>22.00</td>\n",
       "      <td>64.0</td>\n",
       "      <td>3.60</td>\n",
       "      <td>20</td>\n",
       "    </tr>\n",
       "    <tr>\n",
       "      <th>3</th>\n",
       "      <td>belmonte</td>\n",
       "      <td>-15.86</td>\n",
       "      <td>-38.88</td>\n",
       "      <td>26.00</td>\n",
       "      <td>88.0</td>\n",
       "      <td>3.10</td>\n",
       "      <td>20</td>\n",
       "    </tr>\n",
       "    <tr>\n",
       "      <th>4</th>\n",
       "      <td>taltal</td>\n",
       "      <td>-25.40</td>\n",
       "      <td>-70.48</td>\n",
       "      <td>19.21</td>\n",
       "      <td>83.0</td>\n",
       "      <td>1.92</td>\n",
       "      <td>0</td>\n",
       "    </tr>\n",
       "  </tbody>\n",
       "</table>\n",
       "</div>"
      ],
      "text/plain": [
       "             City  Latitude  Longitude  Temperature  Humidity  Wind Speed  \\\n",
       "0          sokolo     14.73      -6.12        23.55       9.0        4.64   \n",
       "1       busselton    -33.65     115.33        22.22      62.0        0.89   \n",
       "2  saint-philippe    -21.36      55.77        22.00      64.0        3.60   \n",
       "3        belmonte    -15.86     -38.88        26.00      88.0        3.10   \n",
       "4          taltal    -25.40     -70.48        19.21      83.0        1.92   \n",
       "\n",
       "   Cloudiness  \n",
       "0         100  \n",
       "1           0  \n",
       "2          20  \n",
       "3          20  \n",
       "4           0  "
      ]
     },
     "execution_count": 2,
     "metadata": {},
     "output_type": "execute_result"
    }
   ],
   "source": [
    "# Store Part I results into DataFrame\n",
    "# Load the csv exported in Part I to a DataFrame\n",
    "cities_data = \"../weatherpy/cities_df.csv\"\n",
    "cities_df = pd.read_csv(cities_data)\n",
    "cities_df.head()"
   ]
  },
  {
   "cell_type": "code",
   "execution_count": 8,
   "metadata": {},
   "outputs": [],
   "source": [
    "# Humidity Heatmap\n",
    "# Use the Lat and Lng as locations and Humidity as the weight.\n",
    "locations = cities_df[[\"Latitude\", \"Longitude\"]]\n",
    "humidity_w = cities_df[\"Humidity\"].astype(float)"
   ]
  },
  {
   "cell_type": "code",
   "execution_count": 9,
   "metadata": {},
   "outputs": [
    {
     "data": {
      "text/plain": [
       "dtype('float64')"
      ]
     },
     "execution_count": 9,
     "metadata": {},
     "output_type": "execute_result"
    }
   ],
   "source": [
    "humidity_w.dtypes"
   ]
  },
  {
   "cell_type": "code",
   "execution_count": 10,
   "metadata": {},
   "outputs": [
    {
     "data": {
      "application/vnd.jupyter.widget-view+json": {
       "model_id": "2652e34f4c2640f099fc3ecbd79435f1",
       "version_major": 2,
       "version_minor": 0
      },
      "text/plain": [
       "Figure(layout=FigureLayout(height='420px'))"
      ]
     },
     "metadata": {},
     "output_type": "display_data"
    }
   ],
   "source": [
    "# Configure gmaps.\n",
    "fig = gmaps.figure()\n",
    "\n",
    "# Create layer\n",
    "heat_layer = gmaps.heatmap_layer(locations, weights= humidity_w, dissipating=False, max_intensity=10, point_radius=1)\n",
    "\n",
    "# Add Heatmap layer to map.\n",
    "fig.add_layer(heat_layer)\n",
    "\n",
    "# Display figure\n",
    "fig"
   ]
  },
  {
   "cell_type": "code",
   "execution_count": null,
   "metadata": {},
   "outputs": [],
   "source": [
    "# Create new DataFrame fitting weather criteria\n",
    "\n",
    "# Narrow down the cities to fit weather conditions.\n",
    "\n",
    "# Drop any rows will null values."
   ]
  },
  {
   "cell_type": "code",
   "execution_count": null,
   "metadata": {},
   "outputs": [],
   "source": [
    "# Hotel Map\n",
    "# Store into variable named hotel_df.\n",
    "\n",
    "# Add a \"Hotel Name\" column to the DataFrame.\n",
    "\n",
    "# Set parameters to search for hotels with 5000 meters.\n",
    "\n",
    "# Hit the Google Places API for each city's coordinates.\n",
    "\n",
    "# Store the first Hotel result into the DataFrame.\n",
    "\n",
    "# Plot markers on top of the heatmap."
   ]
  },
  {
   "cell_type": "code",
   "execution_count": null,
   "metadata": {},
   "outputs": [],
   "source": [
    "# NOTE: Do not change any of the code in this cell\n",
    "\n",
    "# Using the template add the hotel marks to the heatmap\n",
    "#info_box_template = \"\"\"\n",
    "#<dl>\n",
    "#<dt>Name</dt><dd>{Hotel Name}</dd>\n",
    "#<dt>City</dt><dd>{City}</dd>\n",
    "#<dt>Country</dt><dd>{Country}</dd>\n",
    "#</dl>\n",
    "#\"\"\"\n",
    "\n",
    "# Store the DataFrame Row\n",
    "# NOTE: be sure to update with your DataFrame name\n",
    "#hotel_info = [info_box_template.format(**row) for index, row in narrowed_city_df.iterrows()]\n",
    "#locations = hotel_df[[\"Lat\", \"Lng\"]]"
   ]
  },
  {
   "cell_type": "code",
   "execution_count": null,
   "metadata": {},
   "outputs": [],
   "source": [
    "# Add marker layer ontop of heat map\n",
    "\n",
    "\n",
    "# Display Map"
   ]
  }
 ],
 "metadata": {
  "kernelspec": {
   "display_name": "Python [conda env:PythonData] *",
   "language": "python",
   "name": "conda-env-PythonData-py"
  },
  "language_info": {
   "codemirror_mode": {
    "name": "ipython",
    "version": 3
   },
   "file_extension": ".py",
   "mimetype": "text/x-python",
   "name": "python",
   "nbconvert_exporter": "python",
   "pygments_lexer": "ipython3",
   "version": "3.6.9"
  }
 },
 "nbformat": 4,
 "nbformat_minor": 2
}
